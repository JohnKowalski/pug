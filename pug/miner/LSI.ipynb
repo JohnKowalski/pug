{
 "metadata": {
  "name": ""
 },
 "nbformat": 3,
 "nbformat_minor": 0,
 "worksheets": [
  {
   "cells": [
    {
     "cell_type": "code",
     "collapsed": false,
     "input": [
      "from pug.nlp.classifier import get_words\n",
      "\n",
      "docs = ['Explicit is better than implicit.',\n",
      "        'Simple is better than complex.',\n",
      "        'Flat is better than nested.',\n",
      "       ]\n",
      "O_sparse = [Counter(get_words(d)) for d in docs]\n",
      "print O_sparse\n",
      "\n",
      "\n"
     ],
     "language": "python",
     "metadata": {},
     "outputs": [
      {
       "output_type": "stream",
       "stream": "stdout",
       "text": [
        "[Counter({'better': 1, 'explicit': 1, 'than': 1, 'implicit': 1}), Counter({'simple': 1, 'better': 1, 'complex': 1, 'than': 1}), Counter({'better': 1, 'flat': 1, 'than': 1, 'nested': 1})]\n"
       ]
      }
     ],
     "prompt_number": 22
    },
    {
     "cell_type": "code",
     "collapsed": false,
     "input": [
      "from collections import Counter\n",
      "\n",
      "total = Counter()\n",
      "for c in O_sparse:\n",
      "    total += c\n",
      "print total"
     ],
     "language": "python",
     "metadata": {},
     "outputs": [
      {
       "output_type": "stream",
       "stream": "stdout",
       "text": [
        "Counter({'than': 3, 'better': 3, 'flat': 1, 'simple': 1, 'explicit': 1, 'complex': 1, 'nested': 1, 'implicit': 1})\n"
       ]
      }
     ],
     "prompt_number": 23
    },
    {
     "cell_type": "code",
     "collapsed": false,
     "input": [
      "from tabulate import tabulate\n",
      "words, O = list(total), []\n",
      "for counts in O_sparse:\n",
      "    O += [[0] * len(words)]\n",
      "    for word, count in counts.iteritems():\n",
      "        j = words.index(word)\n",
      "        O[-1][j] += count\n",
      "print tabulate(O, words)\n"
     ],
     "language": "python",
     "metadata": {},
     "outputs": [
      {
       "output_type": "stream",
       "stream": "stdout",
       "text": [
        "  flat    simple    explicit    than    better    complex    nested    implicit\n",
        "------  --------  ----------  ------  --------  ---------  --------  ----------\n",
        "     0         0           1       1         1          0         0           1\n",
        "     0         1           0       1         1          1         0           0\n",
        "     1         0           0       1         1          0         1           0\n"
       ]
      }
     ],
     "prompt_number": 21
    },
    {
     "cell_type": "code",
     "collapsed": false,
     "input": [
      "from nltk import download, ConditionalFreqDist\n",
      "download('inaugural')\n",
      "from nltk.corpus import inaugural\n",
      "\n",
      "cfd = ConditionalFreqDist(\n",
      "        (target, fileid[:4])\n",
      "        for fileid in inaugural.fileids()\n",
      "        for w in inaugural.words(fileid)\n",
      "        for target in ['america', 'citizen']\n",
      "        if w.lower().startswith(target)) [1]\n",
      "cfd.plot()"
     ],
     "language": "python",
     "metadata": {},
     "outputs": [
      {
       "output_type": "stream",
       "stream": "stdout",
       "text": [
        "[nltk_data] Downloading package 'inaugural' to\n",
        "[nltk_data]     /home/Hobson/nltk_data...\n",
        "[nltk_data]   Package inaugural is already up-to-date!\n"
       ]
      }
     ],
     "prompt_number": 28
    },
    {
     "cell_type": "code",
     "collapsed": false,
     "input": [
      "from nltk.corpus import inaugural\n",
      "cfd = ConditionalFreqDist(\n",
      "        (target, fileid[:4])\n",
      "        for fileid in inaugural.fileids()\n",
      "        for w in inaugural.words(fileid)\n",
      "        for target in ['america', 'citizen']\n",
      "        if w.lower().startswith(target)) [1]\n"
     ],
     "language": "python",
     "metadata": {},
     "outputs": [],
     "prompt_number": 29
    },
    {
     "cell_type": "code",
     "collapsed": false,
     "input": [
      "\n"
     ],
     "language": "python",
     "metadata": {},
     "outputs": [],
     "prompt_number": 30
    },
    {
     "cell_type": "code",
     "collapsed": false,
     "input": [],
     "language": "python",
     "metadata": {},
     "outputs": []
    }
   ],
   "metadata": {}
  }
 ]
}